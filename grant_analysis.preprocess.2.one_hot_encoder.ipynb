{
 "cells": [
  {
   "cell_type": "markdown",
   "metadata": {},
   "source": [
    "# Feature Preprocessing Step 2 - One Hot Encoding"
   ]
  },
  {
   "cell_type": "markdown",
   "metadata": {},
   "source": [
    "### Imports"
   ]
  },
  {
   "cell_type": "code",
   "execution_count": 1,
   "metadata": {},
   "outputs": [],
   "source": [
    "import numpy as np\n",
    "import pandas as pd\n",
    "from   sklearn.preprocessing import OneHotEncoder"
   ]
  },
  {
   "cell_type": "markdown",
   "metadata": {},
   "source": [
    "### Import Preprocessed Step 1 Feature Data"
   ]
  },
  {
   "cell_type": "code",
   "execution_count": 2,
   "metadata": {},
   "outputs": [],
   "source": [
    "df = pd.read_csv(\"charity_data.preprocess.1.feature_elimination.csv\")"
   ]
  },
  {
   "cell_type": "code",
   "execution_count": 3,
   "metadata": {},
   "outputs": [
    {
     "name": "stdout",
     "output_type": "stream",
     "text": [
      "The number of rows in the data set is: 34299\n"
     ]
    }
   ],
   "source": [
    "print(f\"The number of rows in the data set is: {df.IS_SUCCESSFUL.count()}\")"
   ]
  },
  {
   "cell_type": "code",
   "execution_count": 4,
   "metadata": {},
   "outputs": [
    {
     "data": {
      "text/plain": [
       "APPLICATION_TYPE    object\n",
       "AFFILIATION         object\n",
       "CLASSIFICATION      object\n",
       "USE_CASE            object\n",
       "ORGANIZATION        object\n",
       "INCOME_AMT          object\n",
       "ASK_AMT              int64\n",
       "IS_SUCCESSFUL        int64\n",
       "dtype: object"
      ]
     },
     "execution_count": 4,
     "metadata": {},
     "output_type": "execute_result"
    }
   ],
   "source": [
    "df.dtypes"
   ]
  },
  {
   "cell_type": "markdown",
   "metadata": {},
   "source": [
    "## Encoding Catigorical Features\n",
    "#### Except APPLICATION_TYPE and CLASSIFICATION"
   ]
  },
  {
   "cell_type": "code",
   "execution_count": 5,
   "metadata": {},
   "outputs": [],
   "source": [
    "# Bucketing will be applyed to the features APPLICATION_TYPE and CLASSIFICATION\n",
    "# Using different row count cutoff values for changing the classification value to other"
   ]
  },
  {
   "cell_type": "code",
   "execution_count": 6,
   "metadata": {},
   "outputs": [],
   "source": [
    "# Generate our categorical variable list\n",
    "catigorical_fields = df.dtypes[df.dtypes == \"object\"].index.tolist()\n",
    "\n",
    "catigorical_fields.remove('APPLICATION_TYPE')\n",
    "catigorical_fields.remove('CLASSIFICATION')"
   ]
  },
  {
   "cell_type": "code",
   "execution_count": 7,
   "metadata": {},
   "outputs": [],
   "source": [
    "# Create a OneHotEncoder instance\n",
    "encoder = OneHotEncoder(sparse=False, dtype=np.int64)"
   ]
  },
  {
   "cell_type": "code",
   "execution_count": 8,
   "metadata": {},
   "outputs": [],
   "source": [
    "# Fit and transform the OneHotEncoder using the categorical variable list\n",
    "encoded_df = pd.DataFrame(encoder.fit_transform(df[catigorical_fields]))"
   ]
  },
  {
   "cell_type": "code",
   "execution_count": 9,
   "metadata": {},
   "outputs": [],
   "source": [
    "# Add the encoded variable names to the DataFrame\n",
    "encoded_df.columns = encoder.get_feature_names(catigorical_fields)"
   ]
  },
  {
   "cell_type": "code",
   "execution_count": 10,
   "metadata": {},
   "outputs": [],
   "source": [
    "# Merge one-hot encoded features and drop the originals\n",
    "df.drop(catigorical_fields,1, inplace=True)\n",
    "df = df.merge(encoded_df,left_index=True, right_index=True)"
   ]
  },
  {
   "cell_type": "code",
   "execution_count": 11,
   "metadata": {},
   "outputs": [
    {
     "data": {
      "text/plain": [
       "APPLICATION_TYPE                object\n",
       "CLASSIFICATION                  object\n",
       "ASK_AMT                          int64\n",
       "IS_SUCCESSFUL                    int64\n",
       "AFFILIATION_CompanySponsored     int64\n",
       "AFFILIATION_Family/Parent        int64\n",
       "AFFILIATION_Independent          int64\n",
       "AFFILIATION_National             int64\n",
       "AFFILIATION_Other                int64\n",
       "AFFILIATION_Regional             int64\n",
       "USE_CASE_CommunityServ           int64\n",
       "USE_CASE_Heathcare               int64\n",
       "USE_CASE_Other                   int64\n",
       "USE_CASE_Preservation            int64\n",
       "USE_CASE_ProductDev              int64\n",
       "ORGANIZATION_Association         int64\n",
       "ORGANIZATION_Co-operative        int64\n",
       "ORGANIZATION_Corporation         int64\n",
       "ORGANIZATION_Trust               int64\n",
       "INCOME_AMT_0                     int64\n",
       "INCOME_AMT_1-9999                int64\n",
       "INCOME_AMT_10000-24999           int64\n",
       "INCOME_AMT_100000-499999         int64\n",
       "INCOME_AMT_10M-50M               int64\n",
       "INCOME_AMT_1M-5M                 int64\n",
       "INCOME_AMT_25000-99999           int64\n",
       "INCOME_AMT_50M+                  int64\n",
       "INCOME_AMT_5M-10M                int64\n",
       "dtype: object"
      ]
     },
     "execution_count": 11,
     "metadata": {},
     "output_type": "execute_result"
    }
   ],
   "source": [
    "df.dtypes"
   ]
  },
  {
   "cell_type": "markdown",
   "metadata": {},
   "source": [
    "## Save Step 2 - One Hot Encoded Feature Data"
   ]
  },
  {
   "cell_type": "code",
   "execution_count": 12,
   "metadata": {},
   "outputs": [],
   "source": [
    "df.to_csv(\"charity_data.preprocess.2.one_hot_encoded.csv\", index=False)"
   ]
  },
  {
   "cell_type": "code",
   "execution_count": null,
   "metadata": {},
   "outputs": [],
   "source": []
  }
 ],
 "metadata": {
  "kernelspec": {
   "display_name": "mlenv",
   "language": "python",
   "name": "mlenv"
  },
  "language_info": {
   "codemirror_mode": {
    "name": "ipython",
    "version": 3
   },
   "file_extension": ".py",
   "mimetype": "text/x-python",
   "name": "python",
   "nbconvert_exporter": "python",
   "pygments_lexer": "ipython3",
   "version": "3.7.7"
  }
 },
 "nbformat": 4,
 "nbformat_minor": 4
}
