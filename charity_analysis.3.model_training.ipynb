{
 "cells": [
  {
   "cell_type": "markdown",
   "metadata": {},
   "source": [
    "# Imports"
   ]
  },
  {
   "cell_type": "code",
   "execution_count": 1,
   "metadata": {},
   "outputs": [],
   "source": [
    "import numpy as np\n",
    "import pandas as pd\n",
    "from   sklearn.model_selection import train_test_split\n",
    "from   sklearn.preprocessing import MinMaxScaler, StandardScaler, OneHotEncoder\n",
    "import tensorflow as tf\n",
    "from   tensorflow.keras.callbacks import ModelCheckpoint"
   ]
  },
  {
   "cell_type": "markdown",
   "metadata": {},
   "source": [
    "# Model Training"
   ]
  },
  {
   "cell_type": "markdown",
   "metadata": {},
   "source": [
    "## Get Encoded data"
   ]
  },
  {
   "cell_type": "code",
   "execution_count": 2,
   "metadata": {},
   "outputs": [],
   "source": [
    "model_df = pd.read_csv(\"charity_data.preprocess.2.one_hot_encoded.csv\")"
   ]
  },
  {
   "cell_type": "code",
   "execution_count": 3,
   "metadata": {},
   "outputs": [
    {
     "name": "stdout",
     "output_type": "stream",
     "text": [
      "The number of rows in the data set is: 34299\n"
     ]
    }
   ],
   "source": [
    "row_count = model_df.IS_SUCCESSFUL.count()\n",
    "print(f\"The number of rows in the data set is: {row_count}\")"
   ]
  },
  {
   "cell_type": "markdown",
   "metadata": {},
   "source": [
    "## Model Parameters"
   ]
  },
  {
   "cell_type": "code",
   "execution_count": 4,
   "metadata": {},
   "outputs": [],
   "source": [
    "# The neural network model is designed to \n",
    "# test the model by setting a threshold\n",
    "# to remove ASK_AMT outlier values\n",
    "\n",
    "feature_ask_amt_outlier_le_threshold = 100000000000000\n",
    "\n",
    "\n",
    "# The neural network model is designed to \n",
    "# test the model with various binning \n",
    "# thresholds for the features\n",
    "# \n",
    "# APPLICATION_TYPE\n",
    "# CLASSIFICATION\n",
    "\n",
    "\n",
    "# Bucketing row count thresholds\n",
    "feature_appl_bucketing_le_row_cnt = 10\n",
    "\n",
    "feature_class_bucketing_le_row_cnt = 4\n",
    "\n",
    "hidden_layer_1_nodes   = 75\n",
    "hidden_layer_1_act_func = \"relu\"\n",
    "\n",
    "hidden_layer_2_nodes   = 150\n",
    "hidden_layer_2_act_func = \"relu\"\n",
    "\n",
    "hidden_layer_3_nodes   = 10\n",
    "hidden_layer_3_act_func = \"relu\"\n",
    "\n",
    "output_layer_nodes = 1\n",
    "output_layer_act_func = \"sigmoid\""
   ]
  },
  {
   "cell_type": "markdown",
   "metadata": {},
   "source": [
    "### Remove target ASK_AMT Outliers"
   ]
  },
  {
   "cell_type": "code",
   "execution_count": 5,
   "metadata": {},
   "outputs": [],
   "source": [
    "model_df = model_df[(model_df[\"ASK_AMT\"] <= feature_ask_amt_outlier_le_threshold)]"
   ]
  },
  {
   "cell_type": "code",
   "execution_count": 6,
   "metadata": {},
   "outputs": [
    {
     "name": "stdout",
     "output_type": "stream",
     "text": [
      "Eliminating ASK_AMT outliers over 100000000000000 dollars removed 0 rows\n"
     ]
    }
   ],
   "source": [
    "row_count_removed = row_count - model_df.IS_SUCCESSFUL.count()\n",
    "print(f\"Eliminating ASK_AMT outliers over {feature_ask_amt_outlier_le_threshold} dollars removed {row_count_removed} rows\")"
   ]
  },
  {
   "cell_type": "markdown",
   "metadata": {},
   "source": [
    "### Bucketing features APPLICATION_TYPE and CLASSIFICATION"
   ]
  },
  {
   "cell_type": "code",
   "execution_count": 7,
   "metadata": {},
   "outputs": [],
   "source": [
    "def remapp(classification, remap_class_list):\n",
    "    if classification in remap_class_list:\n",
    "        return \"Other\"\n",
    "    return classification"
   ]
  },
  {
   "cell_type": "code",
   "execution_count": 8,
   "metadata": {},
   "outputs": [],
   "source": [
    "def set_feature_binning(feature_Name, bucketing_le_row_cnt):\n",
    "    ## if binning row count threshold is > 0 bin feature\n",
    "    if bucketing_le_row_cnt > 0:\n",
    "        # Get feature unique classification row counts\n",
    "        feature_cat_filt_row_cnt_ser = model_df[feature_Name].value_counts()\n",
    "        \n",
    "        # Filter classification values that have a row counts that\n",
    "        # are less than or equal to the binning threshold row count\n",
    "        feature_cat_filt_row_cnt_ser = feature_cat_filt_row_cnt_ser[(feature_cat_filt_row_cnt_ser[:] <= bucketing_le_row_cnt)]\n",
    "        \n",
    "        # Set feature catigory value to other for feature \n",
    "        # catigory values that have been binned\n",
    "        model_df[feature_Name] = model_df[feature_Name].apply(remapp, args=[feature_cat_filt_row_cnt_ser.index])\n",
    "        \n",
    "        ## get \n",
    "        feature_updated_cat_count = model_df[feature_Name].nunique()\n",
    "        print(f\"Feature: {feature_Name} bucketing threshold {bucketing_le_row_cnt} updated catigory count: {feature_updated_cat_count}\")"
   ]
  },
  {
   "cell_type": "code",
   "execution_count": 9,
   "metadata": {},
   "outputs": [
    {
     "name": "stdout",
     "output_type": "stream",
     "text": [
      "The number of unique catigory values for the feature APPLICATION_TYPE is 17\n"
     ]
    }
   ],
   "source": [
    "unique_class_count = model_df[\"APPLICATION_TYPE\"].nunique()\n",
    "print(f\"The number of unique catigory values for the feature APPLICATION_TYPE is {unique_class_count}\")"
   ]
  },
  {
   "cell_type": "code",
   "execution_count": 10,
   "metadata": {},
   "outputs": [
    {
     "name": "stdout",
     "output_type": "stream",
     "text": [
      "The number of unique catigory values for the feature CLASSIFICATION is 71\n"
     ]
    }
   ],
   "source": [
    "unique_class_count = model_df[\"CLASSIFICATION\"].nunique()\n",
    "print(f\"The number of unique catigory values for the feature CLASSIFICATION is {unique_class_count}\")"
   ]
  },
  {
   "cell_type": "code",
   "execution_count": 11,
   "metadata": {},
   "outputs": [
    {
     "name": "stdout",
     "output_type": "stream",
     "text": [
      "Feature: APPLICATION_TYPE bucketing threshold 10 updated catigory count: 13\n"
     ]
    }
   ],
   "source": [
    "set_feature_binning(\"APPLICATION_TYPE\", feature_appl_bucketing_le_row_cnt)"
   ]
  },
  {
   "cell_type": "code",
   "execution_count": 12,
   "metadata": {},
   "outputs": [
    {
     "name": "stdout",
     "output_type": "stream",
     "text": [
      "Feature: CLASSIFICATION bucketing threshold 4 updated catigory count: 38\n"
     ]
    }
   ],
   "source": [
    "set_feature_binning(\"CLASSIFICATION\", feature_class_bucketing_le_row_cnt)"
   ]
  },
  {
   "cell_type": "markdown",
   "metadata": {},
   "source": [
    "### Encoding Catigorical Fields APPLICATION_TYPE and CLASSIFICATION After Binning"
   ]
  },
  {
   "cell_type": "code",
   "execution_count": 13,
   "metadata": {},
   "outputs": [],
   "source": [
    "# Create a OneHotEncoder instance\n",
    "encoder = OneHotEncoder(sparse=False, dtype=np.int64)\n",
    "\n",
    "# Fit and transform the OneHotEncoder using the categorical variable list\n",
    "encoded_df = pd.DataFrame(encoder.fit_transform(model_df[[\"APPLICATION_TYPE\",\"CLASSIFICATION\"]]))\n",
    "\n",
    "# Add the encoded variable names to the DataFrame\n",
    "encoded_df.columns = encoder.get_feature_names([\"APPLICATION_TYPE\",\"CLASSIFICATION\"])"
   ]
  },
  {
   "cell_type": "code",
   "execution_count": 14,
   "metadata": {},
   "outputs": [],
   "source": [
    "# Merge one-hot encoded features and drop the originals\n",
    "model_df.drop([\"APPLICATION_TYPE\",\"CLASSIFICATION\"],1, inplace=True)\n",
    "model_df = model_df.merge(encoded_df,left_index=True, right_index=True)"
   ]
  },
  {
   "cell_type": "code",
   "execution_count": 15,
   "metadata": {},
   "outputs": [
    {
     "name": "stdout",
     "output_type": "stream",
     "text": [
      "The column:[APPLICATION_TYPE_Other] has [2] values\n",
      "The column:[APPLICATION_TYPE_T10] has [2] values\n",
      "The column:[APPLICATION_TYPE_T12] has [2] values\n",
      "The column:[APPLICATION_TYPE_T13] has [2] values\n",
      "The column:[APPLICATION_TYPE_T19] has [2] values\n",
      "The column:[APPLICATION_TYPE_T2] has [2] values\n",
      "The column:[APPLICATION_TYPE_T3] has [2] values\n",
      "The column:[APPLICATION_TYPE_T4] has [2] values\n",
      "The column:[APPLICATION_TYPE_T5] has [2] values\n",
      "The column:[APPLICATION_TYPE_T6] has [2] values\n",
      "The column:[APPLICATION_TYPE_T7] has [2] values\n",
      "The column:[APPLICATION_TYPE_T8] has [2] values\n",
      "The column:[APPLICATION_TYPE_T9] has [2] values\n",
      "The column:[CLASSIFICATION_C1000] has [2] values\n",
      "The column:[CLASSIFICATION_C1200] has [2] values\n",
      "The column:[CLASSIFICATION_C1230] has [2] values\n",
      "The column:[CLASSIFICATION_C1235] has [2] values\n",
      "The column:[CLASSIFICATION_C1237] has [2] values\n",
      "The column:[CLASSIFICATION_C1238] has [2] values\n",
      "The column:[CLASSIFICATION_C1240] has [2] values\n",
      "The column:[CLASSIFICATION_C1250] has [2] values\n",
      "The column:[CLASSIFICATION_C1257] has [2] values\n",
      "The column:[CLASSIFICATION_C1270] has [2] values\n",
      "The column:[CLASSIFICATION_C1278] has [2] values\n",
      "The column:[CLASSIFICATION_C1280] has [2] values\n",
      "The column:[CLASSIFICATION_C1300] has [2] values\n",
      "The column:[CLASSIFICATION_C1400] has [2] values\n",
      "The column:[CLASSIFICATION_C1500] has [2] values\n",
      "The column:[CLASSIFICATION_C1600] has [2] values\n",
      "The column:[CLASSIFICATION_C1700] has [2] values\n",
      "The column:[CLASSIFICATION_C1720] has [2] values\n",
      "The column:[CLASSIFICATION_C1800] has [2] values\n",
      "The column:[CLASSIFICATION_C2000] has [2] values\n",
      "The column:[CLASSIFICATION_C2100] has [2] values\n",
      "The column:[CLASSIFICATION_C2300] has [2] values\n",
      "The column:[CLASSIFICATION_C2400] has [2] values\n",
      "The column:[CLASSIFICATION_C2700] has [2] values\n",
      "The column:[CLASSIFICATION_C2800] has [2] values\n",
      "The column:[CLASSIFICATION_C3000] has [2] values\n",
      "The column:[CLASSIFICATION_C4000] has [2] values\n",
      "The column:[CLASSIFICATION_C4100] has [2] values\n",
      "The column:[CLASSIFICATION_C5000] has [2] values\n",
      "The column:[CLASSIFICATION_C6000] has [2] values\n",
      "The column:[CLASSIFICATION_C7000] has [2] values\n",
      "The column:[CLASSIFICATION_C7100] has [2] values\n",
      "The column:[CLASSIFICATION_C7120] has [2] values\n",
      "The column:[CLASSIFICATION_C7200] has [2] values\n",
      "The column:[CLASSIFICATION_C7210] has [2] values\n",
      "The column:[CLASSIFICATION_C8000] has [2] values\n",
      "The column:[CLASSIFICATION_C8200] has [2] values\n",
      "The column:[CLASSIFICATION_Other] has [2] values\n"
     ]
    }
   ],
   "source": [
    "# Display one hot encoding for features APPLICATION_TYPE and CLASSIFICATION\n",
    "for column_name in model_df.columns:\n",
    "    if column_name[0:16] == \"APPLICATION_TYPE\" or column_name[0:14] == \"CLASSIFICATION\":\n",
    "        print(f\"The column:[{column_name}] has [{len(model_df[column_name].unique())}] values\")"
   ]
  },
  {
   "cell_type": "markdown",
   "metadata": {},
   "source": [
    "### Scale ASK_AMT feature"
   ]
  },
  {
   "cell_type": "code",
   "execution_count": 16,
   "metadata": {},
   "outputs": [],
   "source": [
    "# Create a StandardScaler instance\n",
    "scaler = StandardScaler()\n",
    "\n",
    "# Fit the StandardScaler\n",
    "X_ASK_AMT_scaler = scaler.fit(model_df[\"ASK_AMT\"].values.reshape(-1,1))\n",
    "\n",
    "# Scale the data\n",
    "model_df[\"ASK_AMT\"] = X_ASK_AMT_scaler.transform(model_df[\"ASK_AMT\"].values.reshape(-1,1))"
   ]
  },
  {
   "cell_type": "markdown",
   "metadata": {},
   "source": [
    "### Create training and testing data sets"
   ]
  },
  {
   "cell_type": "code",
   "execution_count": 17,
   "metadata": {},
   "outputs": [],
   "source": [
    "# Split our preprocessed data into our features and target arrays\n",
    "y = model_df[\"IS_SUCCESSFUL\"].values\n",
    "X = model_df.drop([\"IS_SUCCESSFUL\"],1).values\n",
    "\n",
    "# Split the preprocessed data into a training and testing dataset\n",
    "X_train, X_test, y_train, y_test = train_test_split(X, y, random_state=78)"
   ]
  },
  {
   "cell_type": "markdown",
   "metadata": {},
   "source": [
    "### Train neural network"
   ]
  },
  {
   "cell_type": "code",
   "execution_count": 18,
   "metadata": {},
   "outputs": [
    {
     "name": "stdout",
     "output_type": "stream",
     "text": [
      "Model: \"sequential\"\n",
      "_________________________________________________________________\n",
      "Layer (type)                 Output Shape              Param #   \n",
      "=================================================================\n",
      "dense (Dense)                (None, 75)                5775      \n",
      "_________________________________________________________________\n",
      "dense_1 (Dense)              (None, 150)               11400     \n",
      "_________________________________________________________________\n",
      "dense_2 (Dense)              (None, 10)                1510      \n",
      "_________________________________________________________________\n",
      "dense_3 (Dense)              (None, 1)                 11        \n",
      "=================================================================\n",
      "Total params: 18,696\n",
      "Trainable params: 18,696\n",
      "Non-trainable params: 0\n",
      "_________________________________________________________________\n"
     ]
    }
   ],
   "source": [
    "# Define the model - deep neural net\n",
    "number_input_features = len(X_train[0])\n",
    "\n",
    "nn = tf.keras.models.Sequential()\n",
    "\n",
    "# First hidden layer\n",
    "nn.add( tf.keras.layers.Dense(units=hidden_layer_1_nodes, input_dim=number_input_features, activation=hidden_layer_1_act_func))\n",
    "\n",
    "# Second hidden layer add if node count > 0\n",
    "if hidden_layer_2_nodes > 0:\n",
    "    nn.add(tf.keras.layers.Dense(units=hidden_layer_2_nodes, activation=hidden_layer_2_act_func))\n",
    "\n",
    "# Third hidden layer add if node count > 1\n",
    "if hidden_layer_3_nodes > 0:\n",
    "    nn.add(tf.keras.layers.Dense(units=hidden_layer_3_nodes, activation=hidden_layer_3_act_func))\n",
    "    \n",
    "# Output layer\n",
    "nn.add(tf.keras.layers.Dense(units=output_layer_nodes, activation=output_layer_act_func))\n",
    "\n",
    "# Check the structure of the model\n",
    "nn.summary()"
   ]
  },
  {
   "cell_type": "code",
   "execution_count": 19,
   "metadata": {},
   "outputs": [],
   "source": [
    "# Compile the model\n",
    "nn.compile(loss=\"binary_crossentropy\", optimizer=\"adam\", metrics=[\"accuracy\"])"
   ]
  },
  {
   "cell_type": "code",
   "execution_count": 20,
   "metadata": {},
   "outputs": [
    {
     "name": "stdout",
     "output_type": "stream",
     "text": [
      "Epoch 1/100\n",
      "804/804 [==============================] - 1s 2ms/step - loss: 0.5680 - accuracy: 0.7224\n",
      "Epoch 2/100\n",
      "804/804 [==============================] - 1s 1ms/step - loss: 0.5509 - accuracy: 0.7308\n",
      "Epoch 3/100\n",
      "804/804 [==============================] - 1s 2ms/step - loss: 0.5473 - accuracy: 0.7345\n",
      "Epoch 4/100\n",
      "804/804 [==============================] - 1s 2ms/step - loss: 0.5449 - accuracy: 0.7341\n",
      "Epoch 5/100\n",
      "804/804 [==============================] - 1s 1ms/step - loss: 0.5429 - accuracy: 0.7353\n",
      "Epoch 6/100\n",
      "804/804 [==============================] - 1s 1ms/step - loss: 0.5426 - accuracy: 0.7364\n",
      "Epoch 7/100\n",
      "804/804 [==============================] - 1s 1ms/step - loss: 0.5411 - accuracy: 0.7374\n",
      "Epoch 8/100\n",
      "804/804 [==============================] - 1s 1ms/step - loss: 0.5400 - accuracy: 0.7379\n",
      "Epoch 9/100\n",
      "804/804 [==============================] - 1s 1ms/step - loss: 0.5391 - accuracy: 0.7378\n",
      "Epoch 10/100\n",
      "804/804 [==============================] - 1s 1ms/step - loss: 0.5390 - accuracy: 0.7393\n",
      "Epoch 11/100\n",
      "804/804 [==============================] - 1s 1ms/step - loss: 0.5385 - accuracy: 0.7389\n",
      "Epoch 12/100\n",
      "804/804 [==============================] - 1s 1ms/step - loss: 0.5367 - accuracy: 0.7390\n",
      "Epoch 13/100\n",
      "804/804 [==============================] - 1s 1ms/step - loss: 0.5367 - accuracy: 0.7400\n",
      "Epoch 14/100\n",
      "804/804 [==============================] - 1s 1ms/step - loss: 0.5363 - accuracy: 0.7399\n",
      "Epoch 15/100\n",
      "804/804 [==============================] - 1s 1ms/step - loss: 0.5352 - accuracy: 0.7403\n",
      "Epoch 16/100\n",
      "804/804 [==============================] - 1s 1ms/step - loss: 0.5349 - accuracy: 0.7406\n",
      "Epoch 17/100\n",
      "804/804 [==============================] - 1s 1ms/step - loss: 0.5347 - accuracy: 0.7409\n",
      "Epoch 18/100\n",
      "804/804 [==============================] - 1s 1ms/step - loss: 0.5339 - accuracy: 0.7401\n",
      "Epoch 19/100\n",
      "804/804 [==============================] - 1s 1ms/step - loss: 0.5336 - accuracy: 0.7417\n",
      "Epoch 20/100\n",
      "804/804 [==============================] - 1s 1ms/step - loss: 0.5331 - accuracy: 0.7418\n",
      "Epoch 21/100\n",
      "804/804 [==============================] - 1s 1ms/step - loss: 0.5337 - accuracy: 0.7409\n",
      "Epoch 22/100\n",
      "804/804 [==============================] - 1s 1ms/step - loss: 0.5324 - accuracy: 0.7420\n",
      "Epoch 23/100\n",
      "804/804 [==============================] - 1s 1ms/step - loss: 0.5327 - accuracy: 0.7425\n",
      "Epoch 24/100\n",
      "804/804 [==============================] - 1s 1ms/step - loss: 0.5322 - accuracy: 0.7424\n",
      "Epoch 25/100\n",
      "804/804 [==============================] - 1s 1ms/step - loss: 0.5313 - accuracy: 0.7421\n",
      "Epoch 26/100\n",
      "804/804 [==============================] - 1s 2ms/step - loss: 0.5311 - accuracy: 0.7433\n",
      "Epoch 27/100\n",
      "804/804 [==============================] - 1s 2ms/step - loss: 0.5311 - accuracy: 0.7422\n",
      "Epoch 28/100\n",
      "804/804 [==============================] - 1s 1ms/step - loss: 0.5312 - accuracy: 0.7414\n",
      "Epoch 29/100\n",
      "804/804 [==============================] - 1s 2ms/step - loss: 0.5310 - accuracy: 0.7434\n",
      "Epoch 30/100\n",
      "804/804 [==============================] - 1s 2ms/step - loss: 0.5306 - accuracy: 0.7421\n",
      "Epoch 31/100\n",
      "804/804 [==============================] - 1s 1ms/step - loss: 0.5302 - accuracy: 0.7430\n",
      "Epoch 32/100\n",
      "804/804 [==============================] - 1s 1ms/step - loss: 0.5303 - accuracy: 0.7426\n",
      "Epoch 33/100\n",
      "804/804 [==============================] - 1s 1ms/step - loss: 0.5301 - accuracy: 0.7426\n",
      "Epoch 34/100\n",
      "804/804 [==============================] - 1s 2ms/step - loss: 0.5298 - accuracy: 0.7432\n",
      "Epoch 35/100\n",
      "804/804 [==============================] - 1s 1ms/step - loss: 0.5293 - accuracy: 0.7435\n",
      "Epoch 36/100\n",
      "804/804 [==============================] - 1s 1ms/step - loss: 0.5293 - accuracy: 0.7434\n",
      "Epoch 37/100\n",
      "804/804 [==============================] - 1s 2ms/step - loss: 0.5290 - accuracy: 0.7433\n",
      "Epoch 38/100\n",
      "804/804 [==============================] - 1s 2ms/step - loss: 0.5287 - accuracy: 0.7437\n",
      "Epoch 39/100\n",
      "804/804 [==============================] - 1s 1ms/step - loss: 0.5284 - accuracy: 0.7435\n",
      "Epoch 40/100\n",
      "804/804 [==============================] - 1s 2ms/step - loss: 0.5283 - accuracy: 0.7434\n",
      "Epoch 41/100\n",
      "804/804 [==============================] - 1s 1ms/step - loss: 0.5284 - accuracy: 0.7432\n",
      "Epoch 42/100\n",
      "804/804 [==============================] - 1s 1ms/step - loss: 0.5283 - accuracy: 0.7431\n",
      "Epoch 43/100\n",
      "804/804 [==============================] - 1s 1ms/step - loss: 0.5278 - accuracy: 0.7429\n",
      "Epoch 44/100\n",
      "804/804 [==============================] - 1s 1ms/step - loss: 0.5278 - accuracy: 0.7438\n",
      "Epoch 45/100\n",
      "804/804 [==============================] - 1s 1ms/step - loss: 0.5277 - accuracy: 0.7441\n",
      "Epoch 46/100\n",
      "804/804 [==============================] - 1s 1ms/step - loss: 0.5274 - accuracy: 0.7442\n",
      "Epoch 47/100\n",
      "804/804 [==============================] - 1s 1ms/step - loss: 0.5274 - accuracy: 0.7441\n",
      "Epoch 48/100\n",
      "804/804 [==============================] - 1s 1ms/step - loss: 0.5270 - accuracy: 0.7441\n",
      "Epoch 49/100\n",
      "804/804 [==============================] - 1s 1ms/step - loss: 0.5270 - accuracy: 0.7434\n",
      "Epoch 50/100\n",
      "804/804 [==============================] - 1s 1ms/step - loss: 0.5271 - accuracy: 0.7439\n",
      "Epoch 51/100\n",
      "804/804 [==============================] - 1s 1ms/step - loss: 0.5266 - accuracy: 0.7445\n",
      "Epoch 52/100\n",
      "804/804 [==============================] - 1s 1ms/step - loss: 0.5269 - accuracy: 0.7438\n",
      "Epoch 53/100\n",
      "804/804 [==============================] - 1s 1ms/step - loss: 0.5264 - accuracy: 0.7444\n",
      "Epoch 54/100\n",
      "804/804 [==============================] - 1s 1ms/step - loss: 0.5263 - accuracy: 0.7445\n",
      "Epoch 55/100\n",
      "804/804 [==============================] - 1s 1ms/step - loss: 0.5266 - accuracy: 0.7444\n",
      "Epoch 56/100\n",
      "804/804 [==============================] - 1s 1ms/step - loss: 0.5262 - accuracy: 0.7445\n",
      "Epoch 57/100\n",
      "804/804 [==============================] - 1s 1ms/step - loss: 0.5264 - accuracy: 0.7440\n",
      "Epoch 58/100\n",
      "804/804 [==============================] - 1s 1ms/step - loss: 0.5261 - accuracy: 0.7442\n",
      "Epoch 59/100\n",
      "804/804 [==============================] - 1s 1ms/step - loss: 0.5259 - accuracy: 0.7437\n",
      "Epoch 60/100\n",
      "804/804 [==============================] - 1s 1ms/step - loss: 0.5259 - accuracy: 0.7439\n",
      "Epoch 61/100\n",
      "804/804 [==============================] - 1s 1ms/step - loss: 0.5263 - accuracy: 0.7436\n",
      "Epoch 62/100\n",
      "804/804 [==============================] - 1s 1ms/step - loss: 0.5257 - accuracy: 0.7444\n",
      "Epoch 63/100\n",
      "804/804 [==============================] - 1s 1ms/step - loss: 0.5260 - accuracy: 0.7443\n",
      "Epoch 64/100\n",
      "804/804 [==============================] - 1s 1ms/step - loss: 0.5255 - accuracy: 0.7444\n",
      "Epoch 65/100\n",
      "804/804 [==============================] - 1s 1ms/step - loss: 0.5253 - accuracy: 0.7445\n",
      "Epoch 66/100\n",
      "804/804 [==============================] - 1s 1ms/step - loss: 0.5252 - accuracy: 0.7435\n",
      "Epoch 67/100\n",
      "804/804 [==============================] - 1s 1ms/step - loss: 0.5261 - accuracy: 0.7451\n",
      "Epoch 68/100\n",
      "804/804 [==============================] - 1s 1ms/step - loss: 0.5251 - accuracy: 0.7443\n",
      "Epoch 69/100\n",
      "804/804 [==============================] - 1s 1ms/step - loss: 0.5255 - accuracy: 0.7441\n",
      "Epoch 70/100\n",
      "804/804 [==============================] - 1s 1ms/step - loss: 0.5253 - accuracy: 0.7447\n",
      "Epoch 71/100\n",
      "804/804 [==============================] - 1s 1ms/step - loss: 0.5251 - accuracy: 0.7446\n",
      "Epoch 72/100\n",
      "804/804 [==============================] - 1s 1ms/step - loss: 0.5253 - accuracy: 0.7451\n",
      "Epoch 73/100\n",
      "804/804 [==============================] - 1s 1ms/step - loss: 0.5247 - accuracy: 0.7452\n",
      "Epoch 74/100\n",
      "804/804 [==============================] - 1s 1ms/step - loss: 0.5251 - accuracy: 0.7443\n",
      "Epoch 75/100\n",
      "804/804 [==============================] - 1s 1ms/step - loss: 0.5249 - accuracy: 0.7447\n",
      "Epoch 76/100\n",
      "804/804 [==============================] - 1s 1ms/step - loss: 0.5248 - accuracy: 0.7443\n",
      "Epoch 77/100\n",
      "804/804 [==============================] - 1s 1ms/step - loss: 0.5257 - accuracy: 0.7451\n",
      "Epoch 78/100\n",
      "804/804 [==============================] - 1s 1ms/step - loss: 0.5247 - accuracy: 0.7448\n",
      "Epoch 79/100\n",
      "804/804 [==============================] - 1s 1ms/step - loss: 0.5245 - accuracy: 0.7447\n",
      "Epoch 80/100\n",
      "804/804 [==============================] - 1s 1ms/step - loss: 0.5247 - accuracy: 0.7441\n",
      "Epoch 81/100\n"
     ]
    },
    {
     "name": "stdout",
     "output_type": "stream",
     "text": [
      "804/804 [==============================] - 1s 1ms/step - loss: 0.5244 - accuracy: 0.7449\n",
      "Epoch 82/100\n",
      "804/804 [==============================] - 1s 1ms/step - loss: 0.5244 - accuracy: 0.7445\n",
      "Epoch 83/100\n",
      "804/804 [==============================] - 1s 1ms/step - loss: 0.5248 - accuracy: 0.7447\n",
      "Epoch 84/100\n",
      "804/804 [==============================] - 1s 1ms/step - loss: 0.5244 - accuracy: 0.7437\n",
      "Epoch 85/100\n",
      "804/804 [==============================] - 1s 1ms/step - loss: 0.5243 - accuracy: 0.7450\n",
      "Epoch 86/100\n",
      "804/804 [==============================] - 1s 1ms/step - loss: 0.5244 - accuracy: 0.7443\n",
      "Epoch 87/100\n",
      "804/804 [==============================] - 1s 1ms/step - loss: 0.5245 - accuracy: 0.7449\n",
      "Epoch 88/100\n",
      "804/804 [==============================] - 1s 1ms/step - loss: 0.5243 - accuracy: 0.7455\n",
      "Epoch 89/100\n",
      "804/804 [==============================] - 1s 1ms/step - loss: 0.5239 - accuracy: 0.7443\n",
      "Epoch 90/100\n",
      "804/804 [==============================] - 1s 1ms/step - loss: 0.5239 - accuracy: 0.7451\n",
      "Epoch 91/100\n",
      "804/804 [==============================] - 1s 1ms/step - loss: 0.5240 - accuracy: 0.7451\n",
      "Epoch 92/100\n",
      "804/804 [==============================] - 1s 1ms/step - loss: 0.5241 - accuracy: 0.7443\n",
      "Epoch 93/100\n",
      "804/804 [==============================] - 1s 1ms/step - loss: 0.5265 - accuracy: 0.7444\n",
      "Epoch 94/100\n",
      "804/804 [==============================] - 1s 1ms/step - loss: 0.5240 - accuracy: 0.7447\n",
      "Epoch 95/100\n",
      "804/804 [==============================] - 1s 1ms/step - loss: 0.5238 - accuracy: 0.7454\n",
      "Epoch 96/100\n",
      "804/804 [==============================] - 1s 1ms/step - loss: 0.5237 - accuracy: 0.7449\n",
      "Epoch 97/100\n",
      "804/804 [==============================] - 1s 1ms/step - loss: 0.5243 - accuracy: 0.7440\n",
      "Epoch 98/100\n",
      "804/804 [==============================] - 1s 1ms/step - loss: 0.5236 - accuracy: 0.7450\n",
      "Epoch 99/100\n",
      "804/804 [==============================] - 1s 1ms/step - loss: 0.5234 - accuracy: 0.7451\n",
      "Epoch 100/100\n",
      "804/804 [==============================] - 1s 1ms/step - loss: 0.5236 - accuracy: 0.7458\n"
     ]
    }
   ],
   "source": [
    "# Train the model\n",
    "fit_model = nn.fit(X_train,y_train,epochs=100)"
   ]
  },
  {
   "cell_type": "markdown",
   "metadata": {},
   "source": [
    "### Accuracy and Error Data for Model Training"
   ]
  },
  {
   "cell_type": "code",
   "execution_count": 21,
   "metadata": {},
   "outputs": [],
   "source": [
    "# Create a DataFrame containing training history\n",
    "history_df = pd.DataFrame(fit_model.history, index=range(1,len(fit_model.history[\"loss\"])+1))"
   ]
  },
  {
   "cell_type": "code",
   "execution_count": 22,
   "metadata": {},
   "outputs": [
    {
     "name": "stdout",
     "output_type": "stream",
     "text": [
      "Model loss grapth\n"
     ]
    },
    {
     "data": {
      "text/plain": [
       "<matplotlib.axes._subplots.AxesSubplot at 0x1b7e7d05c08>"
      ]
     },
     "execution_count": 22,
     "metadata": {},
     "output_type": "execute_result"
    },
    {
     "data": {
      "image/png": "[encoded data removed]",
      "text/plain": [
       "<Figure size 432x288 with 1 Axes>"
      ]
     },
     "metadata": {
      "needs_background": "light"
     },
     "output_type": "display_data"
    }
   ],
   "source": [
    "# Plot the loss\n",
    "print(\"Model loss grapth\")\n",
    "history_df.plot(y=\"loss\")"
   ]
  },
  {
   "cell_type": "code",
   "execution_count": 23,
   "metadata": {},
   "outputs": [
    {
     "name": "stdout",
     "output_type": "stream",
     "text": [
      "Model accuracy grapth\n"
     ]
    },
    {
     "data": {
      "text/plain": [
       "<matplotlib.axes._subplots.AxesSubplot at 0x1b78c831588>"
      ]
     },
     "execution_count": 23,
     "metadata": {},
     "output_type": "execute_result"
    },
    {
     "data": {
      "image/png": "[encoded data removed]",
      "text/plain": [
       "<Figure size 432x288 with 1 Axes>"
      ]
     },
     "metadata": {
      "needs_background": "light"
     },
     "output_type": "display_data"
    }
   ],
   "source": [
    "# Plot the accuracy\n",
    "print(\"Model accuracy grapth\")\n",
    "history_df.plot(y=\"accuracy\")"
   ]
  },
  {
   "cell_type": "code",
   "execution_count": 24,
   "metadata": {},
   "outputs": [
    {
     "name": "stdout",
     "output_type": "stream",
     "text": [
      "268/268 - 0s - loss: 0.6109 - accuracy: 0.7264\n",
      "Test set statistics:  Loss: 0.6109205484390259, Accuracy: 0.7264139652252197\n"
     ]
    }
   ],
   "source": [
    "# Evaluate the model using the test data\n",
    "model_loss, model_accuracy = nn.evaluate(X_test,y_test,verbose=2)\n",
    "print(f\"Test set statistics:  Loss: {model_loss}, Accuracy: {model_accuracy}\")"
   ]
  },
  {
   "cell_type": "markdown",
   "metadata": {},
   "source": [
    "### Save Model if Accuracy >= 0.75"
   ]
  },
  {
   "cell_type": "code",
   "execution_count": 25,
   "metadata": {},
   "outputs": [],
   "source": [
    "# Export our model to HDF5 file\n",
    "if model_accuracy >= 0.75:\n",
    "    nn.save(\"charity_analysis_trained.h5\")"
   ]
  },
  {
   "cell_type": "code",
   "execution_count": null,
   "metadata": {},
   "outputs": [],
   "source": []
  }
 ],
 "metadata": {
  "kernelspec": {
   "display_name": "mlenv",
   "language": "python",
   "name": "mlenv"
  },
  "language_info": {
   "codemirror_mode": {
    "name": "ipython",
    "version": 3
   },
   "file_extension": ".py",
   "mimetype": "text/x-python",
   "name": "python",
   "nbconvert_exporter": "python",
   "pygments_lexer": "ipython3",
   "version": "3.7.7"
  }
 },
 "nbformat": 4,
 "nbformat_minor": 4
}
